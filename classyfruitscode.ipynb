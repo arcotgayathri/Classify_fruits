{
 "cells": [
  {
   "cell_type": "code",
   "execution_count": 1,
   "id": "984e2d7a",
   "metadata": {
    "_cell_guid": "b1076dfc-b9ad-4769-8c92-a6c4dae69d19",
    "_uuid": "8f2839f25d086af736a60e9eeb907d3b93b6e0e5",
    "execution": {
     "iopub.execute_input": "2021-08-28T14:40:54.437220Z",
     "iopub.status.busy": "2021-08-28T14:40:54.435409Z",
     "iopub.status.idle": "2021-08-28T14:40:54.450589Z",
     "shell.execute_reply": "2021-08-28T14:40:54.451215Z",
     "shell.execute_reply.started": "2021-08-27T15:35:22.259897Z"
    },
    "papermill": {
     "duration": 0.035498,
     "end_time": "2021-08-28T14:40:54.451515",
     "exception": false,
     "start_time": "2021-08-28T14:40:54.416017",
     "status": "completed"
    },
    "tags": []
   },
   "outputs": [
    {
     "name": "stdout",
     "output_type": "stream",
     "text": [
      "/kaggle/input/classify-fruits/sample_submission.csv\n",
      "/kaggle/input/classify-fruits/fruits_test.csv\n",
      "/kaggle/input/classify-fruits/fruits_train.csv\n"
     ]
    }
   ],
   "source": [
    "# This Python 3 environment comes with many helpful analytics libraries installed\n",
    "# It is defined by the kaggle/python Docker image: https://github.com/kaggle/docker-python\n",
    "# For example, here's several helpful packages to load\n",
    "\n",
    "import numpy as np # linear algebra\n",
    "import pandas as pd # data processing, CSV file I/O (e.g. pd.read_csv)\n",
    "\n",
    "# Input data files are available in the read-only \"../input/\" directory\n",
    "# For example, running this (by clicking run or pressing Shift+Enter) will list all files under the input directory\n",
    "\n",
    "import os\n",
    "for dirname, _, filenames in os.walk('/kaggle/input'):\n",
    "    for filename in filenames:\n",
    "        print(os.path.join(dirname, filename))\n",
    "\n",
    "# You can write up to 20GB to the current directory (/kaggle/working/) that gets preserved as output when you create a version using \"Save & Run All\" \n",
    "# You can also write temporary files to /kaggle/temp/, but they won't be saved outside of the current session"
   ]
  },
  {
   "cell_type": "code",
   "execution_count": 2,
   "id": "a5682f76",
   "metadata": {
    "execution": {
     "iopub.execute_input": "2021-08-28T14:40:54.485775Z",
     "iopub.status.busy": "2021-08-28T14:40:54.485104Z",
     "iopub.status.idle": "2021-08-28T14:40:55.802511Z",
     "shell.execute_reply": "2021-08-28T14:40:55.801906Z",
     "shell.execute_reply.started": "2021-08-27T15:35:25.963645Z"
    },
    "papermill": {
     "duration": 1.335018,
     "end_time": "2021-08-28T14:40:55.802653",
     "exception": false,
     "start_time": "2021-08-28T14:40:54.467635",
     "status": "completed"
    },
    "tags": []
   },
   "outputs": [],
   "source": [
    "from sklearn.neighbors import KNeighborsClassifier\n",
    "from collections import Counter\n",
    "from sklearn.preprocessing import StandardScaler"
   ]
  },
  {
   "cell_type": "code",
   "execution_count": 3,
   "id": "c114da1a",
   "metadata": {
    "execution": {
     "iopub.execute_input": "2021-08-28T14:40:55.835027Z",
     "iopub.status.busy": "2021-08-28T14:40:55.834391Z",
     "iopub.status.idle": "2021-08-28T14:40:55.856315Z",
     "shell.execute_reply": "2021-08-28T14:40:55.855768Z",
     "shell.execute_reply.started": "2021-08-27T15:35:27.254451Z"
    },
    "papermill": {
     "duration": 0.039989,
     "end_time": "2021-08-28T14:40:55.856465",
     "exception": false,
     "start_time": "2021-08-28T14:40:55.816476",
     "status": "completed"
    },
    "tags": []
   },
   "outputs": [],
   "source": [
    "train_data = pd.read_csv('/kaggle/input/classify-fruits/fruits_train.csv')\n",
    "test_data = pd.read_csv('/kaggle/input/classify-fruits/fruits_test.csv')"
   ]
  },
  {
   "cell_type": "code",
   "execution_count": 4,
   "id": "fa26c04f",
   "metadata": {
    "execution": {
     "iopub.execute_input": "2021-08-28T14:40:55.887988Z",
     "iopub.status.busy": "2021-08-28T14:40:55.887349Z",
     "iopub.status.idle": "2021-08-28T14:40:55.901169Z",
     "shell.execute_reply": "2021-08-28T14:40:55.901740Z",
     "shell.execute_reply.started": "2021-08-27T15:35:28.750854Z"
    },
    "papermill": {
     "duration": 0.031118,
     "end_time": "2021-08-28T14:40:55.901916",
     "exception": false,
     "start_time": "2021-08-28T14:40:55.870798",
     "status": "completed"
    },
    "tags": []
   },
   "outputs": [
    {
     "data": {
      "text/plain": [
       "array([[  1. , 160. ,   7.1,   7.6],\n",
       "       [  2. , 194. ,   7.2,  10.3],\n",
       "       [  3. , 154. ,   7.2,   7.2],\n",
       "       [  4. , 154. ,   7. ,   7.1],\n",
       "       [  5. , 162. ,   7.4,   7.2],\n",
       "       [  6. , 164. ,   7.2,   7. ],\n",
       "       [  7. , 154. ,   7.1,   7.5],\n",
       "       [  8. , 116. ,   6.1,   8.5],\n",
       "       [  9. , 170. ,   7.6,   7.9],\n",
       "       [ 10. , 116. ,   5.9,   8.1],\n",
       "       [ 11. , 144. ,   6.8,   7.4],\n",
       "       [ 12. , 160. ,   7.5,   7.5],\n",
       "       [ 13. , 166. ,   6.9,   7.3],\n",
       "       [ 14. , 142. ,   7.6,   7.8],\n",
       "       [ 15. , 156. ,   7.4,   7.4],\n",
       "       [ 16. , 116. ,   6. ,   7.5],\n",
       "       [ 17. , 356. ,   9.2,   9.2],\n",
       "       [ 18. , 152. ,   6.5,   8.5],\n",
       "       [ 19. , 164. ,   7.3,   7.7],\n",
       "       [ 20. , 162. ,   7.5,   7.1],\n",
       "       [ 21. , 158. ,   7.1,   7.5],\n",
       "       [ 22. , 140. ,   7.3,   7.1],\n",
       "       [ 23. , 186. ,   7.2,   9.2],\n",
       "       [ 24. , 174. ,   7.3,  10.1],\n",
       "       [ 25. , 180. ,   8. ,   6.8],\n",
       "       [ 26. , 168. ,   7.5,   7.6],\n",
       "       [ 27. , 216. ,   7.3,  10.2],\n",
       "       [ 28. , 160. ,   7. ,   7.4],\n",
       "       [ 29. , 172. ,   7.1,   7.6],\n",
       "       [ 30. , 140. ,   6.7,   7.1],\n",
       "       [ 31. , 180. ,   7.6,   8.2],\n",
       "       [ 32. , 362. ,   9.6,   9.2],\n",
       "       [ 33. , 342. ,   9. ,   9.4],\n",
       "       [ 34. , 152. ,   7.6,   7.3],\n",
       "       [ 35. , 200. ,   7.3,  10.5],\n",
       "       [ 36. , 116. ,   6.3,   7.7],\n",
       "       [ 37. , 178. ,   7.1,   7.8],\n",
       "       [ 38. , 192. ,   8.4,   7.3],\n",
       "       [ 39. , 118. ,   5.9,   8. ],\n",
       "       [ 40. , 132. ,   5.8,   8.7]])"
      ]
     },
     "execution_count": 4,
     "metadata": {},
     "output_type": "execute_result"
    }
   ],
   "source": [
    "X_train =train_data.iloc[:,0:4].values\n",
    "X_train\n"
   ]
  },
  {
   "cell_type": "code",
   "execution_count": 5,
   "id": "ddd97faa",
   "metadata": {
    "execution": {
     "iopub.execute_input": "2021-08-28T14:40:55.932554Z",
     "iopub.status.busy": "2021-08-28T14:40:55.931933Z",
     "iopub.status.idle": "2021-08-28T14:40:55.937610Z",
     "shell.execute_reply": "2021-08-28T14:40:55.938246Z",
     "shell.execute_reply.started": "2021-08-27T15:35:29.627987Z"
    },
    "papermill": {
     "duration": 0.022585,
     "end_time": "2021-08-28T14:40:55.938411",
     "exception": false,
     "start_time": "2021-08-28T14:40:55.915826",
     "status": "completed"
    },
    "tags": []
   },
   "outputs": [
    {
     "data": {
      "text/plain": [
       "array([2, 3, 2, 1, 1, 2, 2, 3, 1, 3, 2, 1, 1, 2, 1, 3, 2, 3, 1, 1, 2, 1,\n",
       "       3, 3, 1, 1, 3, 2, 1, 2, 2, 2, 2, 1, 3, 3, 1, 1, 3, 3])"
      ]
     },
     "execution_count": 5,
     "metadata": {},
     "output_type": "execute_result"
    }
   ],
   "source": [
    "y_train = train_data.iloc[:,-1].values\n",
    "y_train"
   ]
  },
  {
   "cell_type": "code",
   "execution_count": 6,
   "id": "64c73f6c",
   "metadata": {
    "execution": {
     "iopub.execute_input": "2021-08-28T14:40:55.969939Z",
     "iopub.status.busy": "2021-08-28T14:40:55.969356Z",
     "iopub.status.idle": "2021-08-28T14:40:55.975446Z",
     "shell.execute_reply": "2021-08-28T14:40:55.976025Z",
     "shell.execute_reply.started": "2021-08-27T15:35:30.699444Z"
    },
    "papermill": {
     "duration": 0.023497,
     "end_time": "2021-08-28T14:40:55.976191",
     "exception": false,
     "start_time": "2021-08-28T14:40:55.952694",
     "status": "completed"
    },
    "tags": []
   },
   "outputs": [
    {
     "data": {
      "text/plain": [
       "array([[  1. , 118. ,   6.1,   8.1],\n",
       "       [  2. , 158. ,   7.2,   7.8],\n",
       "       [  3. , 120. ,   6. ,   8.4],\n",
       "       [  4. , 210. ,   7.8,   8. ],\n",
       "       [  5. , 156. ,   7.6,   7.5],\n",
       "       [  6. , 176. ,   7.4,   7.2],\n",
       "       [  7. , 154. ,   7.3,   7.3],\n",
       "       [  8. , 196. ,   7.3,   9.7],\n",
       "       [  9. , 130. ,   6. ,   8.2],\n",
       "       [ 10. , 150. ,   7.1,   7.9],\n",
       "       [ 11. , 172. ,   7.4,   7. ],\n",
       "       [ 12. , 156. ,   7.7,   7.1],\n",
       "       [ 13. , 190. ,   7.5,   8.1],\n",
       "       [ 14. , 204. ,   7.5,   9.2]])"
      ]
     },
     "execution_count": 6,
     "metadata": {},
     "output_type": "execute_result"
    }
   ],
   "source": [
    "X_test= test_data.iloc[:,:].values\n",
    "X_test"
   ]
  },
  {
   "cell_type": "code",
   "execution_count": 7,
   "id": "5b4d3f95",
   "metadata": {
    "execution": {
     "iopub.execute_input": "2021-08-28T14:40:56.009334Z",
     "iopub.status.busy": "2021-08-28T14:40:56.008679Z",
     "iopub.status.idle": "2021-08-28T14:40:56.014299Z",
     "shell.execute_reply": "2021-08-28T14:40:56.014777Z",
     "shell.execute_reply.started": "2021-08-27T15:35:31.866117Z"
    },
    "papermill": {
     "duration": 0.024036,
     "end_time": "2021-08-28T14:40:56.014934",
     "exception": false,
     "start_time": "2021-08-28T14:40:55.990898",
     "status": "completed"
    },
    "tags": []
   },
   "outputs": [],
   "source": [
    "from sklearn.preprocessing import StandardScaler\n",
    "standard= StandardScaler()\n",
    "standard.fit(X_train)\n",
    "X_train = standard.transform(X_train)\n",
    "X_test = standard.transform(X_test)"
   ]
  },
  {
   "cell_type": "code",
   "execution_count": 8,
   "id": "01a6a208",
   "metadata": {
    "execution": {
     "iopub.execute_input": "2021-08-28T14:40:56.047271Z",
     "iopub.status.busy": "2021-08-28T14:40:56.046649Z",
     "iopub.status.idle": "2021-08-28T14:40:56.050433Z",
     "shell.execute_reply": "2021-08-28T14:40:56.051019Z",
     "shell.execute_reply.started": "2021-08-27T15:35:32.956378Z"
    },
    "papermill": {
     "duration": 0.021599,
     "end_time": "2021-08-28T14:40:56.051189",
     "exception": false,
     "start_time": "2021-08-28T14:40:56.029590",
     "status": "completed"
    },
    "tags": []
   },
   "outputs": [],
   "source": [
    "classifier =KNeighborsClassifier(n_neighbors = 3)"
   ]
  },
  {
   "cell_type": "code",
   "execution_count": 9,
   "id": "6c21c5d0",
   "metadata": {
    "execution": {
     "iopub.execute_input": "2021-08-28T14:40:56.082829Z",
     "iopub.status.busy": "2021-08-28T14:40:56.082242Z",
     "iopub.status.idle": "2021-08-28T14:40:56.091720Z",
     "shell.execute_reply": "2021-08-28T14:40:56.092245Z",
     "shell.execute_reply.started": "2021-08-27T15:35:34.209141Z"
    },
    "papermill": {
     "duration": 0.026877,
     "end_time": "2021-08-28T14:40:56.092430",
     "exception": false,
     "start_time": "2021-08-28T14:40:56.065553",
     "status": "completed"
    },
    "tags": []
   },
   "outputs": [
    {
     "data": {
      "text/plain": [
       "KNeighborsClassifier(n_neighbors=3)"
      ]
     },
     "execution_count": 9,
     "metadata": {},
     "output_type": "execute_result"
    }
   ],
   "source": [
    "classifier.fit(X_train,y_train)"
   ]
  },
  {
   "cell_type": "code",
   "execution_count": 10,
   "id": "d21de4f0",
   "metadata": {
    "execution": {
     "iopub.execute_input": "2021-08-28T14:40:56.127866Z",
     "iopub.status.busy": "2021-08-28T14:40:56.127308Z",
     "iopub.status.idle": "2021-08-28T14:40:56.131960Z",
     "shell.execute_reply": "2021-08-28T14:40:56.132482Z",
     "shell.execute_reply.started": "2021-08-27T15:35:35.34844Z"
    },
    "papermill": {
     "duration": 0.024932,
     "end_time": "2021-08-28T14:40:56.132638",
     "exception": false,
     "start_time": "2021-08-28T14:40:56.107706",
     "status": "completed"
    },
    "tags": []
   },
   "outputs": [
    {
     "data": {
      "text/plain": [
       "array([3, 2, 3, 1, 1, 2, 2, 3, 3, 2, 1, 1, 1, 3])"
      ]
     },
     "execution_count": 10,
     "metadata": {},
     "output_type": "execute_result"
    }
   ],
   "source": [
    "final = classifier.predict(X_test)\n",
    "final\n",
    "\n",
    " "
   ]
  },
  {
   "cell_type": "code",
   "execution_count": 11,
   "id": "75b8b510",
   "metadata": {
    "execution": {
     "iopub.execute_input": "2021-08-28T14:40:56.166098Z",
     "iopub.status.busy": "2021-08-28T14:40:56.165492Z",
     "iopub.status.idle": "2021-08-28T14:40:56.176883Z",
     "shell.execute_reply": "2021-08-28T14:40:56.176246Z",
     "shell.execute_reply.started": "2021-08-27T15:36:03.747803Z"
    },
    "papermill": {
     "duration": 0.029107,
     "end_time": "2021-08-28T14:40:56.177031",
     "exception": false,
     "start_time": "2021-08-28T14:40:56.147924",
     "status": "completed"
    },
    "tags": []
   },
   "outputs": [],
   "source": [
    "\n",
    "predictions = pd.DataFrame({'ID':test_data['Id'],'Category':np.array(final)})"
   ]
  },
  {
   "cell_type": "code",
   "execution_count": 12,
   "id": "5e45fa5b",
   "metadata": {
    "execution": {
     "iopub.execute_input": "2021-08-28T14:40:56.212545Z",
     "iopub.status.busy": "2021-08-28T14:40:56.211852Z",
     "iopub.status.idle": "2021-08-28T14:40:56.219631Z",
     "shell.execute_reply": "2021-08-28T14:40:56.219092Z",
     "shell.execute_reply.started": "2021-08-27T15:36:05.914681Z"
    },
    "papermill": {
     "duration": 0.027135,
     "end_time": "2021-08-28T14:40:56.219779",
     "exception": false,
     "start_time": "2021-08-28T14:40:56.192644",
     "status": "completed"
    },
    "tags": []
   },
   "outputs": [],
   "source": [
    "predictions.to_csv(\"final_output.csv\")"
   ]
  },
  {
   "cell_type": "code",
   "execution_count": null,
   "id": "d3238784",
   "metadata": {
    "execution": {
     "iopub.execute_input": "2021-08-25T11:44:10.903329Z",
     "iopub.status.busy": "2021-08-25T11:44:10.902973Z",
     "iopub.status.idle": "2021-08-25T11:44:10.92209Z",
     "shell.execute_reply": "2021-08-25T11:44:10.920811Z",
     "shell.execute_reply.started": "2021-08-25T11:44:10.903299Z"
    },
    "papermill": {
     "duration": 0.015072,
     "end_time": "2021-08-28T14:40:56.250437",
     "exception": false,
     "start_time": "2021-08-28T14:40:56.235365",
     "status": "completed"
    },
    "tags": []
   },
   "outputs": [],
   "source": []
  },
  {
   "cell_type": "code",
   "execution_count": null,
   "id": "9a1e9e92",
   "metadata": {
    "execution": {
     "iopub.execute_input": "2021-08-25T11:44:13.809957Z",
     "iopub.status.busy": "2021-08-25T11:44:13.809617Z",
     "iopub.status.idle": "2021-08-25T11:44:13.828197Z",
     "shell.execute_reply": "2021-08-25T11:44:13.826048Z",
     "shell.execute_reply.started": "2021-08-25T11:44:13.809928Z"
    },
    "papermill": {
     "duration": 0.015005,
     "end_time": "2021-08-28T14:40:56.280810",
     "exception": false,
     "start_time": "2021-08-28T14:40:56.265805",
     "status": "completed"
    },
    "tags": []
   },
   "outputs": [],
   "source": []
  },
  {
   "cell_type": "code",
   "execution_count": null,
   "id": "6db0e1f3",
   "metadata": {
    "papermill": {
     "duration": 0.015205,
     "end_time": "2021-08-28T14:40:56.311690",
     "exception": false,
     "start_time": "2021-08-28T14:40:56.296485",
     "status": "completed"
    },
    "tags": []
   },
   "outputs": [],
   "source": []
  },
  {
   "cell_type": "code",
   "execution_count": null,
   "id": "4154036d",
   "metadata": {
    "papermill": {
     "duration": 0.014955,
     "end_time": "2021-08-28T14:40:56.341998",
     "exception": false,
     "start_time": "2021-08-28T14:40:56.327043",
     "status": "completed"
    },
    "tags": []
   },
   "outputs": [],
   "source": []
  }
 ],
 "metadata": {
  "kernelspec": {
   "display_name": "Python 3",
   "language": "python",
   "name": "python3"
  },
  "language_info": {
   "codemirror_mode": {
    "name": "ipython",
    "version": 3
   },
   "file_extension": ".py",
   "mimetype": "text/x-python",
   "name": "python",
   "nbconvert_exporter": "python",
   "pygments_lexer": "ipython3",
   "version": "3.7.10"
  },
  "papermill": {
   "default_parameters": {},
   "duration": 11.909542,
   "end_time": "2021-08-28T14:40:57.847443",
   "environment_variables": {},
   "exception": null,
   "input_path": "__notebook__.ipynb",
   "output_path": "__notebook__.ipynb",
   "parameters": {},
   "start_time": "2021-08-28T14:40:45.937901",
   "version": "2.3.3"
  }
 },
 "nbformat": 4,
 "nbformat_minor": 5
}
